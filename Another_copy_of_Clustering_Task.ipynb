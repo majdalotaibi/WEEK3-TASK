{
  "cells": [
    {
      "cell_type": "markdown",
      "id": "f0946ef5",
      "metadata": {
        "id": "f0946ef5"
      },
      "source": [
        "# Clustering and Dimensionality Reduction Exam\n",
        "Welcome to the weekly project on clustering and dimensionality reduction. You will be working with a dataset of traffic accidents.\n",
        "\n",
        "## Dataset\n",
        "The dataset that will be used in this task is `Traffic_Accidents.csv`\n",
        "\n",
        "## Instructions\n",
        "- Follow the steps outlined below.\n",
        "- Write your code in the empty code cells.\n",
        "- Comment on your code to explain your reasoning.\n",
        "\n",
        "## Dataset Overview\n",
        "The dataset contains information about traffic accidents, including location, weather conditions, road conditions, and more. Below are sample of these columns:\n",
        "\n",
        "* `Location_Easting_OSGR`: Easting coordinate of the accident location.\n",
        "* `Location_Northing_OSGR`: Northing coordinate of the accident location.\n",
        "* `Longitude`: Longitude of the accident site.\n",
        "* `Latitude`: Latitude of the accident site.\n",
        "* `Police_Force`: Identifier for the police force involved.\n",
        "* `Accident_Severity`: Severity of the accident.\n",
        "* `Number_of_Vehicles`: Number of vehicles involved in the accident.\n",
        "* `Number_of_Casualties`: Number of casualties in the accident.\n",
        "* `Date`: Date of the accident.\n",
        "* `Day_of_Week`: Day of the week when the accident occurred.\n",
        "* `Speed_limit`: Speed limit in the area where the accident occurred.\n",
        "* `Weather_Conditions`: Weather conditions at the time of the accident.\n",
        "* `Road_Surface_Conditions`: Condition of the road surface during the accident.\n",
        "* `Urban_or_Rural_Area`: Whether the accident occurred in an urban or rural area.\n",
        "* `Year`: Year when the accident was recorded.\n",
        "* Additional attributes related to road type, pedestrian crossing, light conditions, etc.\n",
        "\n",
        "## Goal\n",
        "The primary goal is to analyze the accidents based on their geographical location.\n"
      ]
    },
    {
      "cell_type": "markdown",
      "id": "e2d10a84",
      "metadata": {
        "id": "e2d10a84"
      },
      "source": [
        "## Import Libraries"
      ]
    },
    {
      "cell_type": "code",
      "execution_count": 1,
      "id": "9ee4bcdb",
      "metadata": {
        "id": "9ee4bcdb"
      },
      "outputs": [],
      "source": [
        "import pandas as pd\n",
        "import seaborn as sns"
      ]
    },
    {
      "cell_type": "markdown",
      "id": "8a257dea",
      "metadata": {
        "id": "8a257dea"
      },
      "source": [
        "## Load the Data"
      ]
    },
    {
      "cell_type": "code",
      "execution_count": 141,
      "id": "2832846e",
      "metadata": {
        "id": "2832846e",
        "colab": {
          "base_uri": "https://localhost:8080/",
          "height": 394
        },
        "outputId": "6b991b7f-6e17-42e9-d764-f5a54bf14b1d"
      },
      "outputs": [
        {
          "output_type": "execute_result",
          "data": {
            "text/plain": [
              "   Unnamed: 0 Accident_Index  Location_Easting_OSGR  Location_Northing_OSGR  \\\n",
              "0       88245       2.01E+12               381880.0                298700.0   \n",
              "1       78422  200520D303703               413520.0                284740.0   \n",
              "2       19574  200501TX20137               516260.0                177370.0   \n",
              "3       79337  200520E097001               401530.0                282610.0   \n",
              "4       89121       2.01E+12               421760.0                320680.0   \n",
              "\n",
              "   Longitude   Latitude  Police_Force  Accident_Severity  Number_of_Vehicles  \\\n",
              "0  -2.268891  52.585773            21                  3                 2.0   \n",
              "1  -1.802453  52.460412            20                  2                 1.0   \n",
              "2  -0.327073  51.483290             1                  3                 2.0   \n",
              "3  -1.978930  52.441426            20                  3                 2.0   \n",
              "4  -1.678823  52.783240            21                  3                 1.0   \n",
              "\n",
              "   Number_of_Casualties  ... 2nd_Road_Number  \\\n",
              "0                     2  ...             0.0   \n",
              "1                     1  ...             0.0   \n",
              "2                     2  ...           454.0   \n",
              "3                     1  ...             0.0   \n",
              "4                     1  ...             0.0   \n",
              "\n",
              "   Pedestrian_Crossing-Human_Control  \\\n",
              "0              None within 50 metres   \n",
              "1              None within 50 metres   \n",
              "2              None within 50 metres   \n",
              "3              None within 50 metres   \n",
              "4              None within 50 metres   \n",
              "\n",
              "       Pedestrian_Crossing-Physical_Facilities  \\\n",
              "0        No physical crossing within 50 meters   \n",
              "1        No physical crossing within 50 meters   \n",
              "2  Pedestrian phase at traffic signal junction   \n",
              "3        No physical crossing within 50 meters   \n",
              "4        No physical crossing within 50 meters   \n",
              "\n",
              "                          Light_Conditions       Weather_Conditions  \\\n",
              "0           Daylight: Street light present  Fine without high winds   \n",
              "1           Daylight: Street light present  Fine without high winds   \n",
              "2           Daylight: Street light present  Fine without high winds   \n",
              "3  Darkness: Street lights present and lit  Fine without high winds   \n",
              "4  Darkness: Street lights present and lit  Fine without high winds   \n",
              "\n",
              "   Road_Surface_Conditions  Urban_or_Rural_Area  \\\n",
              "0                      Dry                  2.0   \n",
              "1                      Dry                  1.0   \n",
              "2                      Dry                  1.0   \n",
              "3                      Dry                  1.0   \n",
              "4                      Dry                  2.0   \n",
              "\n",
              "  Did_Police_Officer_Attend_Scene_of_Accident  LSOA_of_Accident_Location  \\\n",
              "0                                         Yes                  E01029654   \n",
              "1                                         Yes                  E01009313   \n",
              "2                                         Yes                  E01002678   \n",
              "3                                          No                  E01008924   \n",
              "4                                         Yes                  E01029416   \n",
              "\n",
              "     Year  \n",
              "0  2005.0  \n",
              "1  2005.0  \n",
              "2  2005.0  \n",
              "3  2005.0  \n",
              "4  2005.0  \n",
              "\n",
              "[5 rows x 30 columns]"
            ],
            "text/html": [
              "\n",
              "  <div id=\"df-110a46f4-955b-481b-a053-1c4b037423f9\" class=\"colab-df-container\">\n",
              "    <div>\n",
              "<style scoped>\n",
              "    .dataframe tbody tr th:only-of-type {\n",
              "        vertical-align: middle;\n",
              "    }\n",
              "\n",
              "    .dataframe tbody tr th {\n",
              "        vertical-align: top;\n",
              "    }\n",
              "\n",
              "    .dataframe thead th {\n",
              "        text-align: right;\n",
              "    }\n",
              "</style>\n",
              "<table border=\"1\" class=\"dataframe\">\n",
              "  <thead>\n",
              "    <tr style=\"text-align: right;\">\n",
              "      <th></th>\n",
              "      <th>Unnamed: 0</th>\n",
              "      <th>Accident_Index</th>\n",
              "      <th>Location_Easting_OSGR</th>\n",
              "      <th>Location_Northing_OSGR</th>\n",
              "      <th>Longitude</th>\n",
              "      <th>Latitude</th>\n",
              "      <th>Police_Force</th>\n",
              "      <th>Accident_Severity</th>\n",
              "      <th>Number_of_Vehicles</th>\n",
              "      <th>Number_of_Casualties</th>\n",
              "      <th>...</th>\n",
              "      <th>2nd_Road_Number</th>\n",
              "      <th>Pedestrian_Crossing-Human_Control</th>\n",
              "      <th>Pedestrian_Crossing-Physical_Facilities</th>\n",
              "      <th>Light_Conditions</th>\n",
              "      <th>Weather_Conditions</th>\n",
              "      <th>Road_Surface_Conditions</th>\n",
              "      <th>Urban_or_Rural_Area</th>\n",
              "      <th>Did_Police_Officer_Attend_Scene_of_Accident</th>\n",
              "      <th>LSOA_of_Accident_Location</th>\n",
              "      <th>Year</th>\n",
              "    </tr>\n",
              "  </thead>\n",
              "  <tbody>\n",
              "    <tr>\n",
              "      <th>0</th>\n",
              "      <td>88245</td>\n",
              "      <td>2.01E+12</td>\n",
              "      <td>381880.0</td>\n",
              "      <td>298700.0</td>\n",
              "      <td>-2.268891</td>\n",
              "      <td>52.585773</td>\n",
              "      <td>21</td>\n",
              "      <td>3</td>\n",
              "      <td>2.0</td>\n",
              "      <td>2</td>\n",
              "      <td>...</td>\n",
              "      <td>0.0</td>\n",
              "      <td>None within 50 metres</td>\n",
              "      <td>No physical crossing within 50 meters</td>\n",
              "      <td>Daylight: Street light present</td>\n",
              "      <td>Fine without high winds</td>\n",
              "      <td>Dry</td>\n",
              "      <td>2.0</td>\n",
              "      <td>Yes</td>\n",
              "      <td>E01029654</td>\n",
              "      <td>2005.0</td>\n",
              "    </tr>\n",
              "    <tr>\n",
              "      <th>1</th>\n",
              "      <td>78422</td>\n",
              "      <td>200520D303703</td>\n",
              "      <td>413520.0</td>\n",
              "      <td>284740.0</td>\n",
              "      <td>-1.802453</td>\n",
              "      <td>52.460412</td>\n",
              "      <td>20</td>\n",
              "      <td>2</td>\n",
              "      <td>1.0</td>\n",
              "      <td>1</td>\n",
              "      <td>...</td>\n",
              "      <td>0.0</td>\n",
              "      <td>None within 50 metres</td>\n",
              "      <td>No physical crossing within 50 meters</td>\n",
              "      <td>Daylight: Street light present</td>\n",
              "      <td>Fine without high winds</td>\n",
              "      <td>Dry</td>\n",
              "      <td>1.0</td>\n",
              "      <td>Yes</td>\n",
              "      <td>E01009313</td>\n",
              "      <td>2005.0</td>\n",
              "    </tr>\n",
              "    <tr>\n",
              "      <th>2</th>\n",
              "      <td>19574</td>\n",
              "      <td>200501TX20137</td>\n",
              "      <td>516260.0</td>\n",
              "      <td>177370.0</td>\n",
              "      <td>-0.327073</td>\n",
              "      <td>51.483290</td>\n",
              "      <td>1</td>\n",
              "      <td>3</td>\n",
              "      <td>2.0</td>\n",
              "      <td>2</td>\n",
              "      <td>...</td>\n",
              "      <td>454.0</td>\n",
              "      <td>None within 50 metres</td>\n",
              "      <td>Pedestrian phase at traffic signal junction</td>\n",
              "      <td>Daylight: Street light present</td>\n",
              "      <td>Fine without high winds</td>\n",
              "      <td>Dry</td>\n",
              "      <td>1.0</td>\n",
              "      <td>Yes</td>\n",
              "      <td>E01002678</td>\n",
              "      <td>2005.0</td>\n",
              "    </tr>\n",
              "    <tr>\n",
              "      <th>3</th>\n",
              "      <td>79337</td>\n",
              "      <td>200520E097001</td>\n",
              "      <td>401530.0</td>\n",
              "      <td>282610.0</td>\n",
              "      <td>-1.978930</td>\n",
              "      <td>52.441426</td>\n",
              "      <td>20</td>\n",
              "      <td>3</td>\n",
              "      <td>2.0</td>\n",
              "      <td>1</td>\n",
              "      <td>...</td>\n",
              "      <td>0.0</td>\n",
              "      <td>None within 50 metres</td>\n",
              "      <td>No physical crossing within 50 meters</td>\n",
              "      <td>Darkness: Street lights present and lit</td>\n",
              "      <td>Fine without high winds</td>\n",
              "      <td>Dry</td>\n",
              "      <td>1.0</td>\n",
              "      <td>No</td>\n",
              "      <td>E01008924</td>\n",
              "      <td>2005.0</td>\n",
              "    </tr>\n",
              "    <tr>\n",
              "      <th>4</th>\n",
              "      <td>89121</td>\n",
              "      <td>2.01E+12</td>\n",
              "      <td>421760.0</td>\n",
              "      <td>320680.0</td>\n",
              "      <td>-1.678823</td>\n",
              "      <td>52.783240</td>\n",
              "      <td>21</td>\n",
              "      <td>3</td>\n",
              "      <td>1.0</td>\n",
              "      <td>1</td>\n",
              "      <td>...</td>\n",
              "      <td>0.0</td>\n",
              "      <td>None within 50 metres</td>\n",
              "      <td>No physical crossing within 50 meters</td>\n",
              "      <td>Darkness: Street lights present and lit</td>\n",
              "      <td>Fine without high winds</td>\n",
              "      <td>Dry</td>\n",
              "      <td>2.0</td>\n",
              "      <td>Yes</td>\n",
              "      <td>E01029416</td>\n",
              "      <td>2005.0</td>\n",
              "    </tr>\n",
              "  </tbody>\n",
              "</table>\n",
              "<p>5 rows × 30 columns</p>\n",
              "</div>\n",
              "    <div class=\"colab-df-buttons\">\n",
              "\n",
              "  <div class=\"colab-df-container\">\n",
              "    <button class=\"colab-df-convert\" onclick=\"convertToInteractive('df-110a46f4-955b-481b-a053-1c4b037423f9')\"\n",
              "            title=\"Convert this dataframe to an interactive table.\"\n",
              "            style=\"display:none;\">\n",
              "\n",
              "  <svg xmlns=\"http://www.w3.org/2000/svg\" height=\"24px\" viewBox=\"0 -960 960 960\">\n",
              "    <path d=\"M120-120v-720h720v720H120Zm60-500h600v-160H180v160Zm220 220h160v-160H400v160Zm0 220h160v-160H400v160ZM180-400h160v-160H180v160Zm440 0h160v-160H620v160ZM180-180h160v-160H180v160Zm440 0h160v-160H620v160Z\"/>\n",
              "  </svg>\n",
              "    </button>\n",
              "\n",
              "  <style>\n",
              "    .colab-df-container {\n",
              "      display:flex;\n",
              "      gap: 12px;\n",
              "    }\n",
              "\n",
              "    .colab-df-convert {\n",
              "      background-color: #E8F0FE;\n",
              "      border: none;\n",
              "      border-radius: 50%;\n",
              "      cursor: pointer;\n",
              "      display: none;\n",
              "      fill: #1967D2;\n",
              "      height: 32px;\n",
              "      padding: 0 0 0 0;\n",
              "      width: 32px;\n",
              "    }\n",
              "\n",
              "    .colab-df-convert:hover {\n",
              "      background-color: #E2EBFA;\n",
              "      box-shadow: 0px 1px 2px rgba(60, 64, 67, 0.3), 0px 1px 3px 1px rgba(60, 64, 67, 0.15);\n",
              "      fill: #174EA6;\n",
              "    }\n",
              "\n",
              "    .colab-df-buttons div {\n",
              "      margin-bottom: 4px;\n",
              "    }\n",
              "\n",
              "    [theme=dark] .colab-df-convert {\n",
              "      background-color: #3B4455;\n",
              "      fill: #D2E3FC;\n",
              "    }\n",
              "\n",
              "    [theme=dark] .colab-df-convert:hover {\n",
              "      background-color: #434B5C;\n",
              "      box-shadow: 0px 1px 3px 1px rgba(0, 0, 0, 0.15);\n",
              "      filter: drop-shadow(0px 1px 2px rgba(0, 0, 0, 0.3));\n",
              "      fill: #FFFFFF;\n",
              "    }\n",
              "  </style>\n",
              "\n",
              "    <script>\n",
              "      const buttonEl =\n",
              "        document.querySelector('#df-110a46f4-955b-481b-a053-1c4b037423f9 button.colab-df-convert');\n",
              "      buttonEl.style.display =\n",
              "        google.colab.kernel.accessAllowed ? 'block' : 'none';\n",
              "\n",
              "      async function convertToInteractive(key) {\n",
              "        const element = document.querySelector('#df-110a46f4-955b-481b-a053-1c4b037423f9');\n",
              "        const dataTable =\n",
              "          await google.colab.kernel.invokeFunction('convertToInteractive',\n",
              "                                                    [key], {});\n",
              "        if (!dataTable) return;\n",
              "\n",
              "        const docLinkHtml = 'Like what you see? Visit the ' +\n",
              "          '<a target=\"_blank\" href=https://colab.research.google.com/notebooks/data_table.ipynb>data table notebook</a>'\n",
              "          + ' to learn more about interactive tables.';\n",
              "        element.innerHTML = '';\n",
              "        dataTable['output_type'] = 'display_data';\n",
              "        await google.colab.output.renderOutput(dataTable, element);\n",
              "        const docLink = document.createElement('div');\n",
              "        docLink.innerHTML = docLinkHtml;\n",
              "        element.appendChild(docLink);\n",
              "      }\n",
              "    </script>\n",
              "  </div>\n",
              "\n",
              "\n",
              "<div id=\"df-b68808ca-0bea-438f-9a80-13f40dc5690e\">\n",
              "  <button class=\"colab-df-quickchart\" onclick=\"quickchart('df-b68808ca-0bea-438f-9a80-13f40dc5690e')\"\n",
              "            title=\"Suggest charts\"\n",
              "            style=\"display:none;\">\n",
              "\n",
              "<svg xmlns=\"http://www.w3.org/2000/svg\" height=\"24px\"viewBox=\"0 0 24 24\"\n",
              "     width=\"24px\">\n",
              "    <g>\n",
              "        <path d=\"M19 3H5c-1.1 0-2 .9-2 2v14c0 1.1.9 2 2 2h14c1.1 0 2-.9 2-2V5c0-1.1-.9-2-2-2zM9 17H7v-7h2v7zm4 0h-2V7h2v10zm4 0h-2v-4h2v4z\"/>\n",
              "    </g>\n",
              "</svg>\n",
              "  </button>\n",
              "\n",
              "<style>\n",
              "  .colab-df-quickchart {\n",
              "      --bg-color: #E8F0FE;\n",
              "      --fill-color: #1967D2;\n",
              "      --hover-bg-color: #E2EBFA;\n",
              "      --hover-fill-color: #174EA6;\n",
              "      --disabled-fill-color: #AAA;\n",
              "      --disabled-bg-color: #DDD;\n",
              "  }\n",
              "\n",
              "  [theme=dark] .colab-df-quickchart {\n",
              "      --bg-color: #3B4455;\n",
              "      --fill-color: #D2E3FC;\n",
              "      --hover-bg-color: #434B5C;\n",
              "      --hover-fill-color: #FFFFFF;\n",
              "      --disabled-bg-color: #3B4455;\n",
              "      --disabled-fill-color: #666;\n",
              "  }\n",
              "\n",
              "  .colab-df-quickchart {\n",
              "    background-color: var(--bg-color);\n",
              "    border: none;\n",
              "    border-radius: 50%;\n",
              "    cursor: pointer;\n",
              "    display: none;\n",
              "    fill: var(--fill-color);\n",
              "    height: 32px;\n",
              "    padding: 0;\n",
              "    width: 32px;\n",
              "  }\n",
              "\n",
              "  .colab-df-quickchart:hover {\n",
              "    background-color: var(--hover-bg-color);\n",
              "    box-shadow: 0 1px 2px rgba(60, 64, 67, 0.3), 0 1px 3px 1px rgba(60, 64, 67, 0.15);\n",
              "    fill: var(--button-hover-fill-color);\n",
              "  }\n",
              "\n",
              "  .colab-df-quickchart-complete:disabled,\n",
              "  .colab-df-quickchart-complete:disabled:hover {\n",
              "    background-color: var(--disabled-bg-color);\n",
              "    fill: var(--disabled-fill-color);\n",
              "    box-shadow: none;\n",
              "  }\n",
              "\n",
              "  .colab-df-spinner {\n",
              "    border: 2px solid var(--fill-color);\n",
              "    border-color: transparent;\n",
              "    border-bottom-color: var(--fill-color);\n",
              "    animation:\n",
              "      spin 1s steps(1) infinite;\n",
              "  }\n",
              "\n",
              "  @keyframes spin {\n",
              "    0% {\n",
              "      border-color: transparent;\n",
              "      border-bottom-color: var(--fill-color);\n",
              "      border-left-color: var(--fill-color);\n",
              "    }\n",
              "    20% {\n",
              "      border-color: transparent;\n",
              "      border-left-color: var(--fill-color);\n",
              "      border-top-color: var(--fill-color);\n",
              "    }\n",
              "    30% {\n",
              "      border-color: transparent;\n",
              "      border-left-color: var(--fill-color);\n",
              "      border-top-color: var(--fill-color);\n",
              "      border-right-color: var(--fill-color);\n",
              "    }\n",
              "    40% {\n",
              "      border-color: transparent;\n",
              "      border-right-color: var(--fill-color);\n",
              "      border-top-color: var(--fill-color);\n",
              "    }\n",
              "    60% {\n",
              "      border-color: transparent;\n",
              "      border-right-color: var(--fill-color);\n",
              "    }\n",
              "    80% {\n",
              "      border-color: transparent;\n",
              "      border-right-color: var(--fill-color);\n",
              "      border-bottom-color: var(--fill-color);\n",
              "    }\n",
              "    90% {\n",
              "      border-color: transparent;\n",
              "      border-bottom-color: var(--fill-color);\n",
              "    }\n",
              "  }\n",
              "</style>\n",
              "\n",
              "  <script>\n",
              "    async function quickchart(key) {\n",
              "      const quickchartButtonEl =\n",
              "        document.querySelector('#' + key + ' button');\n",
              "      quickchartButtonEl.disabled = true;  // To prevent multiple clicks.\n",
              "      quickchartButtonEl.classList.add('colab-df-spinner');\n",
              "      try {\n",
              "        const charts = await google.colab.kernel.invokeFunction(\n",
              "            'suggestCharts', [key], {});\n",
              "      } catch (error) {\n",
              "        console.error('Error during call to suggestCharts:', error);\n",
              "      }\n",
              "      quickchartButtonEl.classList.remove('colab-df-spinner');\n",
              "      quickchartButtonEl.classList.add('colab-df-quickchart-complete');\n",
              "    }\n",
              "    (() => {\n",
              "      let quickchartButtonEl =\n",
              "        document.querySelector('#df-b68808ca-0bea-438f-9a80-13f40dc5690e button');\n",
              "      quickchartButtonEl.style.display =\n",
              "        google.colab.kernel.accessAllowed ? 'block' : 'none';\n",
              "    })();\n",
              "  </script>\n",
              "</div>\n",
              "\n",
              "    </div>\n",
              "  </div>\n"
            ],
            "application/vnd.google.colaboratory.intrinsic+json": {
              "type": "dataframe",
              "variable_name": "df"
            }
          },
          "metadata": {},
          "execution_count": 141
        }
      ],
      "source": [
        "df = pd.read_csv('Traffic_Accidents.csv')\n",
        "df.head()"
      ]
    },
    {
      "cell_type": "markdown",
      "source": [
        "This dataset contains 28852 rows and 30 columns."
      ],
      "metadata": {
        "id": "S4hjUOXlwvv2"
      },
      "id": "S4hjUOXlwvv2"
    },
    {
      "cell_type": "markdown",
      "id": "4106d3c7",
      "metadata": {
        "id": "4106d3c7"
      },
      "source": [
        "## Exploratory Data Analysis (EDA)\n",
        "Perform EDA to understand the data better. This involves several steps to summarize the main characteristics, uncover patterns, and establish relationships:\n",
        "* Find the dataset information and observe the datatypes.\n",
        "* Check the shape of the data to understand its structure.\n",
        "* View the the data with various functions to get an initial sense of the data.\n",
        "* Perform summary statistics on the dataset to grasp central tendencies and variability.\n",
        "* Check for duplicated data.\n",
        "* Check for null values.\n",
        "\n",
        "And apply more if needed!\n"
      ]
    },
    {
      "cell_type": "code",
      "source": [
        "df.info()"
      ],
      "metadata": {
        "colab": {
          "base_uri": "https://localhost:8080/"
        },
        "id": "GaPZSGwbw5f3",
        "outputId": "9f155e1b-ceda-4053-e179-1a1f1694409a"
      },
      "id": "GaPZSGwbw5f3",
      "execution_count": 39,
      "outputs": [
        {
          "output_type": "stream",
          "name": "stdout",
          "text": [
            "<class 'pandas.core.frame.DataFrame'>\n",
            "RangeIndex: 52000 entries, 0 to 51999\n",
            "Data columns (total 30 columns):\n",
            " #   Column                                       Non-Null Count  Dtype  \n",
            "---  ------                                       --------------  -----  \n",
            " 0   Unnamed: 0                                   52000 non-null  int64  \n",
            " 1   Accident_Index                               52000 non-null  object \n",
            " 2   Location_Easting_OSGR                        52000 non-null  float64\n",
            " 3   Location_Northing_OSGR                       52000 non-null  float64\n",
            " 4   Longitude                                    52000 non-null  float64\n",
            " 5   Latitude                                     52000 non-null  float64\n",
            " 6   Police_Force                                 52000 non-null  int64  \n",
            " 7   Accident_Severity                            52000 non-null  int64  \n",
            " 8   Number_of_Vehicles                           51198 non-null  float64\n",
            " 9   Number_of_Casualties                         52000 non-null  int64  \n",
            " 10  Date                                         52000 non-null  object \n",
            " 11  Day_of_Week                                  51463 non-null  float64\n",
            " 12  Time                                         51998 non-null  object \n",
            " 13  Local_Authority_(District)                   51999 non-null  float64\n",
            " 14  Local_Authority_(Highway)                    51999 non-null  object \n",
            " 15  1st_Road_Class                               51999 non-null  float64\n",
            " 16  1st_Road_Number                              51999 non-null  float64\n",
            " 17  Road_Type                                    51999 non-null  object \n",
            " 18  Speed_limit                                  50959 non-null  float64\n",
            " 19  2nd_Road_Class                               51999 non-null  float64\n",
            " 20  2nd_Road_Number                              51999 non-null  float64\n",
            " 21  Pedestrian_Crossing-Human_Control            51993 non-null  object \n",
            " 22  Pedestrian_Crossing-Physical_Facilities      51989 non-null  object \n",
            " 23  Light_Conditions                             51999 non-null  object \n",
            " 24  Weather_Conditions                           51999 non-null  object \n",
            " 25  Road_Surface_Conditions                      51999 non-null  object \n",
            " 26  Urban_or_Rural_Area                          51999 non-null  float64\n",
            " 27  Did_Police_Officer_Attend_Scene_of_Accident  51999 non-null  object \n",
            " 28  LSOA_of_Accident_Location                    51959 non-null  object \n",
            " 29  Year                                         51999 non-null  float64\n",
            "dtypes: float64(14), int64(4), object(12)\n",
            "memory usage: 11.9+ MB\n"
          ]
        }
      ]
    },
    {
      "cell_type": "code",
      "source": [
        "df.shape"
      ],
      "metadata": {
        "colab": {
          "base_uri": "https://localhost:8080/"
        },
        "id": "DijMQ2yrwgqJ",
        "outputId": "bd4865c2-bd7a-49d5-e10b-c6c546cfee11"
      },
      "id": "DijMQ2yrwgqJ",
      "execution_count": 18,
      "outputs": [
        {
          "output_type": "execute_result",
          "data": {
            "text/plain": [
              "(52000, 30)"
            ]
          },
          "metadata": {},
          "execution_count": 18
        }
      ]
    },
    {
      "cell_type": "code",
      "execution_count": 19,
      "id": "a49012c4",
      "metadata": {
        "id": "a49012c4",
        "colab": {
          "base_uri": "https://localhost:8080/",
          "height": 1000
        },
        "outputId": "6089733a-75b3-4bd9-e29f-cfb52c0438be"
      },
      "outputs": [
        {
          "output_type": "execute_result",
          "data": {
            "text/plain": [
              "Unnamed: 0                                       int64\n",
              "Accident_Index                                  object\n",
              "Location_Easting_OSGR                          float64\n",
              "Location_Northing_OSGR                         float64\n",
              "Longitude                                      float64\n",
              "Latitude                                       float64\n",
              "Police_Force                                     int64\n",
              "Accident_Severity                                int64\n",
              "Number_of_Vehicles                             float64\n",
              "Number_of_Casualties                             int64\n",
              "Date                                            object\n",
              "Day_of_Week                                    float64\n",
              "Time                                            object\n",
              "Local_Authority_(District)                     float64\n",
              "Local_Authority_(Highway)                       object\n",
              "1st_Road_Class                                 float64\n",
              "1st_Road_Number                                float64\n",
              "Road_Type                                       object\n",
              "Speed_limit                                    float64\n",
              "2nd_Road_Class                                 float64\n",
              "2nd_Road_Number                                float64\n",
              "Pedestrian_Crossing-Human_Control               object\n",
              "Pedestrian_Crossing-Physical_Facilities         object\n",
              "Light_Conditions                                object\n",
              "Weather_Conditions                              object\n",
              "Road_Surface_Conditions                         object\n",
              "Urban_or_Rural_Area                            float64\n",
              "Did_Police_Officer_Attend_Scene_of_Accident     object\n",
              "LSOA_of_Accident_Location                       object\n",
              "Year                                           float64\n",
              "dtype: object"
            ],
            "text/html": [
              "<div>\n",
              "<style scoped>\n",
              "    .dataframe tbody tr th:only-of-type {\n",
              "        vertical-align: middle;\n",
              "    }\n",
              "\n",
              "    .dataframe tbody tr th {\n",
              "        vertical-align: top;\n",
              "    }\n",
              "\n",
              "    .dataframe thead th {\n",
              "        text-align: right;\n",
              "    }\n",
              "</style>\n",
              "<table border=\"1\" class=\"dataframe\">\n",
              "  <thead>\n",
              "    <tr style=\"text-align: right;\">\n",
              "      <th></th>\n",
              "      <th>0</th>\n",
              "    </tr>\n",
              "  </thead>\n",
              "  <tbody>\n",
              "    <tr>\n",
              "      <th>Unnamed: 0</th>\n",
              "      <td>int64</td>\n",
              "    </tr>\n",
              "    <tr>\n",
              "      <th>Accident_Index</th>\n",
              "      <td>object</td>\n",
              "    </tr>\n",
              "    <tr>\n",
              "      <th>Location_Easting_OSGR</th>\n",
              "      <td>float64</td>\n",
              "    </tr>\n",
              "    <tr>\n",
              "      <th>Location_Northing_OSGR</th>\n",
              "      <td>float64</td>\n",
              "    </tr>\n",
              "    <tr>\n",
              "      <th>Longitude</th>\n",
              "      <td>float64</td>\n",
              "    </tr>\n",
              "    <tr>\n",
              "      <th>Latitude</th>\n",
              "      <td>float64</td>\n",
              "    </tr>\n",
              "    <tr>\n",
              "      <th>Police_Force</th>\n",
              "      <td>int64</td>\n",
              "    </tr>\n",
              "    <tr>\n",
              "      <th>Accident_Severity</th>\n",
              "      <td>int64</td>\n",
              "    </tr>\n",
              "    <tr>\n",
              "      <th>Number_of_Vehicles</th>\n",
              "      <td>float64</td>\n",
              "    </tr>\n",
              "    <tr>\n",
              "      <th>Number_of_Casualties</th>\n",
              "      <td>int64</td>\n",
              "    </tr>\n",
              "    <tr>\n",
              "      <th>Date</th>\n",
              "      <td>object</td>\n",
              "    </tr>\n",
              "    <tr>\n",
              "      <th>Day_of_Week</th>\n",
              "      <td>float64</td>\n",
              "    </tr>\n",
              "    <tr>\n",
              "      <th>Time</th>\n",
              "      <td>object</td>\n",
              "    </tr>\n",
              "    <tr>\n",
              "      <th>Local_Authority_(District)</th>\n",
              "      <td>float64</td>\n",
              "    </tr>\n",
              "    <tr>\n",
              "      <th>Local_Authority_(Highway)</th>\n",
              "      <td>object</td>\n",
              "    </tr>\n",
              "    <tr>\n",
              "      <th>1st_Road_Class</th>\n",
              "      <td>float64</td>\n",
              "    </tr>\n",
              "    <tr>\n",
              "      <th>1st_Road_Number</th>\n",
              "      <td>float64</td>\n",
              "    </tr>\n",
              "    <tr>\n",
              "      <th>Road_Type</th>\n",
              "      <td>object</td>\n",
              "    </tr>\n",
              "    <tr>\n",
              "      <th>Speed_limit</th>\n",
              "      <td>float64</td>\n",
              "    </tr>\n",
              "    <tr>\n",
              "      <th>2nd_Road_Class</th>\n",
              "      <td>float64</td>\n",
              "    </tr>\n",
              "    <tr>\n",
              "      <th>2nd_Road_Number</th>\n",
              "      <td>float64</td>\n",
              "    </tr>\n",
              "    <tr>\n",
              "      <th>Pedestrian_Crossing-Human_Control</th>\n",
              "      <td>object</td>\n",
              "    </tr>\n",
              "    <tr>\n",
              "      <th>Pedestrian_Crossing-Physical_Facilities</th>\n",
              "      <td>object</td>\n",
              "    </tr>\n",
              "    <tr>\n",
              "      <th>Light_Conditions</th>\n",
              "      <td>object</td>\n",
              "    </tr>\n",
              "    <tr>\n",
              "      <th>Weather_Conditions</th>\n",
              "      <td>object</td>\n",
              "    </tr>\n",
              "    <tr>\n",
              "      <th>Road_Surface_Conditions</th>\n",
              "      <td>object</td>\n",
              "    </tr>\n",
              "    <tr>\n",
              "      <th>Urban_or_Rural_Area</th>\n",
              "      <td>float64</td>\n",
              "    </tr>\n",
              "    <tr>\n",
              "      <th>Did_Police_Officer_Attend_Scene_of_Accident</th>\n",
              "      <td>object</td>\n",
              "    </tr>\n",
              "    <tr>\n",
              "      <th>LSOA_of_Accident_Location</th>\n",
              "      <td>object</td>\n",
              "    </tr>\n",
              "    <tr>\n",
              "      <th>Year</th>\n",
              "      <td>float64</td>\n",
              "    </tr>\n",
              "  </tbody>\n",
              "</table>\n",
              "</div><br><label><b>dtype:</b> object</label>"
            ]
          },
          "metadata": {},
          "execution_count": 19
        }
      ],
      "source": [
        "df.dtypes"
      ]
    },
    {
      "cell_type": "code",
      "source": [
        "df['Accident_Index'].unique()"
      ],
      "metadata": {
        "colab": {
          "base_uri": "https://localhost:8080/"
        },
        "id": "fb_2UE4Dyp0g",
        "outputId": "6ac893e0-6582-4a84-a073-d404d94b8829"
      },
      "id": "fb_2UE4Dyp0g",
      "execution_count": 32,
      "outputs": [
        {
          "output_type": "execute_result",
          "data": {
            "text/plain": [
              "array(['2.01E+12', '200520D303703', '200501TX20137', ..., '20053102C2156',\n",
              "       '200501BS70452', '2005160D02810'], dtype=object)"
            ]
          },
          "metadata": {},
          "execution_count": 32
        }
      ]
    },
    {
      "cell_type": "markdown",
      "id": "b0d002cd",
      "metadata": {
        "id": "b0d002cd"
      },
      "source": [
        "## Data Preprocessing\n",
        "Do what you think you need such as:\n",
        "* Remove the outliers\n",
        "* Impute missing data\n",
        "* Scale the data\n",
        "* Reduce dimentions using PCA\n",
        "* Implement One-Hot Encoding for nominal categorical variables."
      ]
    },
    {
      "cell_type": "markdown",
      "source": [
        "Remove Unnecessary Columns"
      ],
      "metadata": {
        "id": "bST3Xzk9zPO2"
      },
      "id": "bST3Xzk9zPO2"
    },
    {
      "cell_type": "code",
      "source": [
        "df.info()"
      ],
      "metadata": {
        "colab": {
          "base_uri": "https://localhost:8080/"
        },
        "id": "Ztq1zqt_0rRp",
        "outputId": "da7d0cdc-0a88-46bd-a327-1ae1e45b8218"
      },
      "id": "Ztq1zqt_0rRp",
      "execution_count": 29,
      "outputs": [
        {
          "output_type": "stream",
          "name": "stdout",
          "text": [
            "<class 'pandas.core.frame.DataFrame'>\n",
            "RangeIndex: 52000 entries, 0 to 51999\n",
            "Data columns (total 30 columns):\n",
            " #   Column                                       Non-Null Count  Dtype  \n",
            "---  ------                                       --------------  -----  \n",
            " 0   Unnamed: 0                                   52000 non-null  int64  \n",
            " 1   Accident_Index                               52000 non-null  object \n",
            " 2   Location_Easting_OSGR                        52000 non-null  float64\n",
            " 3   Location_Northing_OSGR                       52000 non-null  float64\n",
            " 4   Longitude                                    52000 non-null  float64\n",
            " 5   Latitude                                     52000 non-null  float64\n",
            " 6   Police_Force                                 52000 non-null  int64  \n",
            " 7   Accident_Severity                            52000 non-null  int64  \n",
            " 8   Number_of_Vehicles                           51198 non-null  float64\n",
            " 9   Number_of_Casualties                         52000 non-null  int64  \n",
            " 10  Date                                         52000 non-null  object \n",
            " 11  Day_of_Week                                  51463 non-null  float64\n",
            " 12  Time                                         51998 non-null  object \n",
            " 13  Local_Authority_(District)                   51999 non-null  float64\n",
            " 14  Local_Authority_(Highway)                    51999 non-null  object \n",
            " 15  1st_Road_Class                               51999 non-null  float64\n",
            " 16  1st_Road_Number                              51999 non-null  float64\n",
            " 17  Road_Type                                    51999 non-null  object \n",
            " 18  Speed_limit                                  50959 non-null  float64\n",
            " 19  2nd_Road_Class                               51999 non-null  float64\n",
            " 20  2nd_Road_Number                              51999 non-null  float64\n",
            " 21  Pedestrian_Crossing-Human_Control            51993 non-null  object \n",
            " 22  Pedestrian_Crossing-Physical_Facilities      51989 non-null  object \n",
            " 23  Light_Conditions                             51999 non-null  object \n",
            " 24  Weather_Conditions                           51999 non-null  object \n",
            " 25  Road_Surface_Conditions                      51999 non-null  object \n",
            " 26  Urban_or_Rural_Area                          51999 non-null  float64\n",
            " 27  Did_Police_Officer_Attend_Scene_of_Accident  51999 non-null  object \n",
            " 28  LSOA_of_Accident_Location                    51959 non-null  object \n",
            " 29  Year                                         51999 non-null  float64\n",
            "dtypes: float64(14), int64(4), object(12)\n",
            "memory usage: 11.9+ MB\n"
          ]
        }
      ]
    },
    {
      "cell_type": "code",
      "source": [
        "# I will dropping the Unnecessary Columns for the hypothesis (WE DONT NEED THEM) (IN MY OPINION)\n",
        "\n",
        "df.drop('Unnamed: 0',axis=1,inplace=True)\n",
        "df.drop('Date',axis=1,inplace=True)\n",
        "df.drop('Time',axis=1,inplace=True)\n",
        "df.drop('Local_Authority_(District)',axis=1,inplace=True)\n",
        "df.drop('Local_Authority_(Highway)',axis=1,inplace=True)\n",
        "df.drop('1st_Road_Number',axis=1,inplace=True)\n",
        "df.drop('2nd_Road_Number',axis=1,inplace=True)\n",
        "df.drop('Did_Police_Officer_Attend_Scene_of_Accident',axis=1,inplace=True)\n",
        "df.drop('LSOA_of_Accident_Location',axis=1,inplace=True)\n",
        "df.drop('Accident_Index',axis=1,inplace=True)\n",
        "\n",
        "\n",
        "df.drop('Road_Type',axis=1,inplace=True)\n",
        "df.drop('Pedestrian_Crossing-Human_Control',axis=1,inplace=True)\n",
        "df.drop('Pedestrian_Crossing-Physical_Facilities',axis=1,inplace=True)\n",
        "df.drop('Light_Conditions',axis=1,inplace=True)\n",
        "\n",
        "df.drop('Road_Surface_Conditions',axis=1,inplace=True)\n",
        "df.drop('Weather_Conditions',axis=1,inplace=True)\n"
      ],
      "metadata": {
        "id": "UnYGvBHYxWcz"
      },
      "id": "UnYGvBHYxWcz",
      "execution_count": 142,
      "outputs": []
    },
    {
      "cell_type": "code",
      "source": [
        "df.info()"
      ],
      "metadata": {
        "colab": {
          "base_uri": "https://localhost:8080/"
        },
        "id": "7V9tHb0m1qo7",
        "outputId": "02663330-3ed6-4902-dbd1-00d142ece422"
      },
      "id": "7V9tHb0m1qo7",
      "execution_count": 116,
      "outputs": [
        {
          "output_type": "stream",
          "name": "stdout",
          "text": [
            "<class 'pandas.core.frame.DataFrame'>\n",
            "RangeIndex: 52000 entries, 0 to 51999\n",
            "Data columns (total 14 columns):\n",
            " #   Column                  Non-Null Count  Dtype  \n",
            "---  ------                  --------------  -----  \n",
            " 0   Location_Easting_OSGR   52000 non-null  float64\n",
            " 1   Location_Northing_OSGR  52000 non-null  float64\n",
            " 2   Longitude               52000 non-null  float64\n",
            " 3   Latitude                52000 non-null  float64\n",
            " 4   Police_Force            52000 non-null  int64  \n",
            " 5   Accident_Severity       52000 non-null  int64  \n",
            " 6   Number_of_Vehicles      51198 non-null  float64\n",
            " 7   Number_of_Casualties    52000 non-null  int64  \n",
            " 8   Day_of_Week             51463 non-null  float64\n",
            " 9   1st_Road_Class          51999 non-null  float64\n",
            " 10  Speed_limit             50959 non-null  float64\n",
            " 11  2nd_Road_Class          51999 non-null  float64\n",
            " 12  Urban_or_Rural_Area     51999 non-null  float64\n",
            " 13  Year                    51999 non-null  float64\n",
            "dtypes: float64(11), int64(3)\n",
            "memory usage: 5.6 MB\n"
          ]
        }
      ]
    },
    {
      "cell_type": "markdown",
      "source": [
        "Impute missing data"
      ],
      "metadata": {
        "id": "VjfN5Cu23ACX"
      },
      "id": "VjfN5Cu23ACX"
    },
    {
      "cell_type": "code",
      "source": [
        "df.isnull().sum()"
      ],
      "metadata": {
        "colab": {
          "base_uri": "https://localhost:8080/",
          "height": 523
        },
        "id": "U6ecEEvn3BIO",
        "outputId": "cb47d644-2135-40bc-fc91-0b762b9d6c75"
      },
      "id": "U6ecEEvn3BIO",
      "execution_count": 126,
      "outputs": [
        {
          "output_type": "execute_result",
          "data": {
            "text/plain": [
              "Location_Easting_OSGR        0\n",
              "Location_Northing_OSGR       0\n",
              "Longitude                    0\n",
              "Latitude                     0\n",
              "Police_Force                 0\n",
              "Accident_Severity            0\n",
              "Number_of_Vehicles         802\n",
              "Number_of_Casualties         0\n",
              "Day_of_Week                537\n",
              "1st_Road_Class               1\n",
              "Speed_limit               1041\n",
              "2nd_Road_Class               1\n",
              "Urban_or_Rural_Area          1\n",
              "Year                         1\n",
              "dtype: int64"
            ],
            "text/html": [
              "<div>\n",
              "<style scoped>\n",
              "    .dataframe tbody tr th:only-of-type {\n",
              "        vertical-align: middle;\n",
              "    }\n",
              "\n",
              "    .dataframe tbody tr th {\n",
              "        vertical-align: top;\n",
              "    }\n",
              "\n",
              "    .dataframe thead th {\n",
              "        text-align: right;\n",
              "    }\n",
              "</style>\n",
              "<table border=\"1\" class=\"dataframe\">\n",
              "  <thead>\n",
              "    <tr style=\"text-align: right;\">\n",
              "      <th></th>\n",
              "      <th>0</th>\n",
              "    </tr>\n",
              "  </thead>\n",
              "  <tbody>\n",
              "    <tr>\n",
              "      <th>Location_Easting_OSGR</th>\n",
              "      <td>0</td>\n",
              "    </tr>\n",
              "    <tr>\n",
              "      <th>Location_Northing_OSGR</th>\n",
              "      <td>0</td>\n",
              "    </tr>\n",
              "    <tr>\n",
              "      <th>Longitude</th>\n",
              "      <td>0</td>\n",
              "    </tr>\n",
              "    <tr>\n",
              "      <th>Latitude</th>\n",
              "      <td>0</td>\n",
              "    </tr>\n",
              "    <tr>\n",
              "      <th>Police_Force</th>\n",
              "      <td>0</td>\n",
              "    </tr>\n",
              "    <tr>\n",
              "      <th>Accident_Severity</th>\n",
              "      <td>0</td>\n",
              "    </tr>\n",
              "    <tr>\n",
              "      <th>Number_of_Vehicles</th>\n",
              "      <td>802</td>\n",
              "    </tr>\n",
              "    <tr>\n",
              "      <th>Number_of_Casualties</th>\n",
              "      <td>0</td>\n",
              "    </tr>\n",
              "    <tr>\n",
              "      <th>Day_of_Week</th>\n",
              "      <td>537</td>\n",
              "    </tr>\n",
              "    <tr>\n",
              "      <th>1st_Road_Class</th>\n",
              "      <td>1</td>\n",
              "    </tr>\n",
              "    <tr>\n",
              "      <th>Speed_limit</th>\n",
              "      <td>1041</td>\n",
              "    </tr>\n",
              "    <tr>\n",
              "      <th>2nd_Road_Class</th>\n",
              "      <td>1</td>\n",
              "    </tr>\n",
              "    <tr>\n",
              "      <th>Urban_or_Rural_Area</th>\n",
              "      <td>1</td>\n",
              "    </tr>\n",
              "    <tr>\n",
              "      <th>Year</th>\n",
              "      <td>1</td>\n",
              "    </tr>\n",
              "  </tbody>\n",
              "</table>\n",
              "</div><br><label><b>dtype:</b> int64</label>"
            ]
          },
          "metadata": {},
          "execution_count": 126
        }
      ]
    },
    {
      "cell_type": "code",
      "source": [
        "df['Number_of_Vehicles']= df['Number_of_Vehicles'].fillna(df['Number_of_Vehicles'].mean())\n",
        "df['Day_of_Week']= df['Day_of_Week'].fillna(df['Day_of_Week'].mean())\n",
        "df['Speed_limit']= df['Speed_limit'].fillna(df['Speed_limit'].mean())\n",
        "df['2nd_Road_Class']= df['2nd_Road_Class'].fillna(df['2nd_Road_Class'].mean())\n",
        "df['1st_Road_Class']= df['1st_Road_Class'].fillna(df['1st_Road_Class'].mean())\n",
        "df['Urban_or_Rural_Area']= df['Urban_or_Rural_Area'].fillna(df['Urban_or_Rural_Area'].mean())\n",
        "df['Year']= df['Year'].fillna(df['Year'].mean())"
      ],
      "metadata": {
        "id": "lGDtokFP3I9s"
      },
      "id": "lGDtokFP3I9s",
      "execution_count": 143,
      "outputs": []
    },
    {
      "cell_type": "code",
      "source": [
        "df.isnull().sum()"
      ],
      "metadata": {
        "colab": {
          "base_uri": "https://localhost:8080/",
          "height": 523
        },
        "id": "ioznqxki6_CX",
        "outputId": "63eee6d5-c8ea-4e40-f3b9-cefd59d2e164"
      },
      "id": "ioznqxki6_CX",
      "execution_count": 144,
      "outputs": [
        {
          "output_type": "execute_result",
          "data": {
            "text/plain": [
              "Location_Easting_OSGR     0\n",
              "Location_Northing_OSGR    0\n",
              "Longitude                 0\n",
              "Latitude                  0\n",
              "Police_Force              0\n",
              "Accident_Severity         0\n",
              "Number_of_Vehicles        0\n",
              "Number_of_Casualties      0\n",
              "Day_of_Week               0\n",
              "1st_Road_Class            0\n",
              "Speed_limit               0\n",
              "2nd_Road_Class            0\n",
              "Urban_or_Rural_Area       0\n",
              "Year                      0\n",
              "dtype: int64"
            ],
            "text/html": [
              "<div>\n",
              "<style scoped>\n",
              "    .dataframe tbody tr th:only-of-type {\n",
              "        vertical-align: middle;\n",
              "    }\n",
              "\n",
              "    .dataframe tbody tr th {\n",
              "        vertical-align: top;\n",
              "    }\n",
              "\n",
              "    .dataframe thead th {\n",
              "        text-align: right;\n",
              "    }\n",
              "</style>\n",
              "<table border=\"1\" class=\"dataframe\">\n",
              "  <thead>\n",
              "    <tr style=\"text-align: right;\">\n",
              "      <th></th>\n",
              "      <th>0</th>\n",
              "    </tr>\n",
              "  </thead>\n",
              "  <tbody>\n",
              "    <tr>\n",
              "      <th>Location_Easting_OSGR</th>\n",
              "      <td>0</td>\n",
              "    </tr>\n",
              "    <tr>\n",
              "      <th>Location_Northing_OSGR</th>\n",
              "      <td>0</td>\n",
              "    </tr>\n",
              "    <tr>\n",
              "      <th>Longitude</th>\n",
              "      <td>0</td>\n",
              "    </tr>\n",
              "    <tr>\n",
              "      <th>Latitude</th>\n",
              "      <td>0</td>\n",
              "    </tr>\n",
              "    <tr>\n",
              "      <th>Police_Force</th>\n",
              "      <td>0</td>\n",
              "    </tr>\n",
              "    <tr>\n",
              "      <th>Accident_Severity</th>\n",
              "      <td>0</td>\n",
              "    </tr>\n",
              "    <tr>\n",
              "      <th>Number_of_Vehicles</th>\n",
              "      <td>0</td>\n",
              "    </tr>\n",
              "    <tr>\n",
              "      <th>Number_of_Casualties</th>\n",
              "      <td>0</td>\n",
              "    </tr>\n",
              "    <tr>\n",
              "      <th>Day_of_Week</th>\n",
              "      <td>0</td>\n",
              "    </tr>\n",
              "    <tr>\n",
              "      <th>1st_Road_Class</th>\n",
              "      <td>0</td>\n",
              "    </tr>\n",
              "    <tr>\n",
              "      <th>Speed_limit</th>\n",
              "      <td>0</td>\n",
              "    </tr>\n",
              "    <tr>\n",
              "      <th>2nd_Road_Class</th>\n",
              "      <td>0</td>\n",
              "    </tr>\n",
              "    <tr>\n",
              "      <th>Urban_or_Rural_Area</th>\n",
              "      <td>0</td>\n",
              "    </tr>\n",
              "    <tr>\n",
              "      <th>Year</th>\n",
              "      <td>0</td>\n",
              "    </tr>\n",
              "  </tbody>\n",
              "</table>\n",
              "</div><br><label><b>dtype:</b> int64</label>"
            ]
          },
          "metadata": {},
          "execution_count": 144
        }
      ]
    },
    {
      "cell_type": "code",
      "source": [
        "df.duplicated().sum()"
      ],
      "metadata": {
        "colab": {
          "base_uri": "https://localhost:8080/"
        },
        "id": "R7ewjW774Nhp",
        "outputId": "5f38e62d-c0bb-4764-8dbd-36f9d8e1c05f"
      },
      "id": "R7ewjW774Nhp",
      "execution_count": 145,
      "outputs": [
        {
          "output_type": "execute_result",
          "data": {
            "text/plain": [
              "84"
            ]
          },
          "metadata": {},
          "execution_count": 145
        }
      ]
    },
    {
      "cell_type": "code",
      "source": [
        "df.drop_duplicates(inplace=True)"
      ],
      "metadata": {
        "id": "w1jk8b164RWA"
      },
      "id": "w1jk8b164RWA",
      "execution_count": 146,
      "outputs": []
    },
    {
      "cell_type": "markdown",
      "source": [
        "Encoding"
      ],
      "metadata": {
        "id": "cCrDgnO14ZFf"
      },
      "id": "cCrDgnO14ZFf"
    },
    {
      "cell_type": "code",
      "source": [
        "from sklearn.preprocessing import LabelEncoder\n",
        "label_encoder = LabelEncoder()\n",
        "df['Accident_Severity'] = label_encoder.fit_transform(df['Accident_Severity'])"
      ],
      "metadata": {
        "id": "VkjWVyyy4YfB"
      },
      "id": "VkjWVyyy4YfB",
      "execution_count": 147,
      "outputs": []
    },
    {
      "cell_type": "markdown",
      "id": "d3f6a968",
      "metadata": {
        "id": "d3f6a968"
      },
      "source": [
        "## Feature Selection\n",
        "Select relevant features for clustering. Explain your choice of features.\n"
      ]
    },
    {
      "cell_type": "markdown",
      "source": [
        "I will take all features because I already drop the Unnecessary Columns (unrelevant features)"
      ],
      "metadata": {
        "id": "VIdsNbKjFgbw"
      },
      "id": "VIdsNbKjFgbw"
    },
    {
      "cell_type": "markdown",
      "id": "d0379d4e",
      "metadata": {
        "id": "d0379d4e"
      },
      "source": [
        "## Data Visualization\n",
        "Visualize the data using appropriate plots to gain insights into the dataset. Using the following:\n",
        "- Scatter plot of accidents based on Longitude and Latitude."
      ]
    },
    {
      "cell_type": "code",
      "execution_count": 149,
      "id": "660247d7",
      "metadata": {
        "id": "660247d7",
        "colab": {
          "base_uri": "https://localhost:8080/",
          "height": 472
        },
        "outputId": "4b8951b0-8b24-4242-a871-30c6b3e17bdf"
      },
      "outputs": [
        {
          "output_type": "display_data",
          "data": {
            "text/plain": [
              "<Figure size 640x480 with 1 Axes>"
            ],
            "image/png": "[encoded data removed]"
          },
          "metadata": {}
        }
      ],
      "source": [
        "import matplotlib.pyplot as plt\n",
        "import seaborn as sns\n",
        "plt.scatter(df['Longitude'], df['Latitude'])\n",
        "plt.xlabel('Longitude')\n",
        "plt.ylabel('Latitude')\n",
        "plt.title('Scatter Plot of Accidents')\n",
        "plt.show()"
      ]
    },
    {
      "cell_type": "markdown",
      "id": "4d2f9b1d",
      "metadata": {
        "id": "4d2f9b1d"
      },
      "source": [
        "## Clustering\n",
        "Apply K-Means clustering. Determine the optimal number of clusters and justify your choice.\n",
        "* Find the `n_clusters` parameter using the elbow method.\n",
        "* Train the model."
      ]
    },
    {
      "cell_type": "markdown",
      "source": [
        "Scale the data"
      ],
      "metadata": {
        "id": "Y8Rf00i2FbbQ"
      },
      "id": "Y8Rf00i2FbbQ"
    },
    {
      "cell_type": "code",
      "source": [
        "from sklearn.preprocessing import StandardScaler\n",
        "scaler = StandardScaler()\n",
        "df = scaler.fit_transform(df)"
      ],
      "metadata": {
        "id": "KGzDHXR5_ljQ"
      },
      "id": "KGzDHXR5_ljQ",
      "execution_count": 150,
      "outputs": []
    },
    {
      "cell_type": "code",
      "source": [
        "from sklearn.cluster import KMeans\n",
        "import matplotlib.pyplot as plt\n",
        "\n",
        "inertia = []\n",
        "k_values = range(1, 11)\n",
        "\n",
        "for k in k_values:\n",
        "    kmeans = KMeans(n_clusters=k, random_state=42)\n",
        "    kmeans.fit(df)\n",
        "    inertia.append(kmeans.inertia_)\n",
        "\n",
        "plt.figure(figsize=(8, 6))\n",
        "plt.plot(k_values, inertia, 'bo-')\n",
        "plt.xlabel('Number of Clusters (k)')\n",
        "plt.ylabel('Inertia (Sum of Squared Distances)')\n",
        "plt.title('Elbow Method for Optimal k')\n",
        "plt.show()"
      ],
      "metadata": {
        "colab": {
          "base_uri": "https://localhost:8080/",
          "height": 931
        },
        "id": "6yq4qrQq5wJg",
        "outputId": "e283feb5-1ac9-4f61-bbfc-c68d5311387f"
      },
      "id": "6yq4qrQq5wJg",
      "execution_count": 153,
      "outputs": [
        {
          "output_type": "stream",
          "name": "stderr",
          "text": [
            "/usr/local/lib/python3.10/dist-packages/sklearn/cluster/_kmeans.py:1416: FutureWarning: The default value of `n_init` will change from 10 to 'auto' in 1.4. Set the value of `n_init` explicitly to suppress the warning\n",
            "  super()._check_params_vs_input(X, default_n_init=10)\n",
            "/usr/local/lib/python3.10/dist-packages/sklearn/cluster/_kmeans.py:1416: FutureWarning: The default value of `n_init` will change from 10 to 'auto' in 1.4. Set the value of `n_init` explicitly to suppress the warning\n",
            "  super()._check_params_vs_input(X, default_n_init=10)\n",
            "/usr/local/lib/python3.10/dist-packages/sklearn/cluster/_kmeans.py:1416: FutureWarning: The default value of `n_init` will change from 10 to 'auto' in 1.4. Set the value of `n_init` explicitly to suppress the warning\n",
            "  super()._check_params_vs_input(X, default_n_init=10)\n",
            "/usr/local/lib/python3.10/dist-packages/sklearn/cluster/_kmeans.py:1416: FutureWarning: The default value of `n_init` will change from 10 to 'auto' in 1.4. Set the value of `n_init` explicitly to suppress the warning\n",
            "  super()._check_params_vs_input(X, default_n_init=10)\n",
            "/usr/local/lib/python3.10/dist-packages/sklearn/cluster/_kmeans.py:1416: FutureWarning: The default value of `n_init` will change from 10 to 'auto' in 1.4. Set the value of `n_init` explicitly to suppress the warning\n",
            "  super()._check_params_vs_input(X, default_n_init=10)\n",
            "/usr/local/lib/python3.10/dist-packages/sklearn/cluster/_kmeans.py:1416: FutureWarning: The default value of `n_init` will change from 10 to 'auto' in 1.4. Set the value of `n_init` explicitly to suppress the warning\n",
            "  super()._check_params_vs_input(X, default_n_init=10)\n",
            "/usr/local/lib/python3.10/dist-packages/sklearn/cluster/_kmeans.py:1416: FutureWarning: The default value of `n_init` will change from 10 to 'auto' in 1.4. Set the value of `n_init` explicitly to suppress the warning\n",
            "  super()._check_params_vs_input(X, default_n_init=10)\n",
            "/usr/local/lib/python3.10/dist-packages/sklearn/cluster/_kmeans.py:1416: FutureWarning: The default value of `n_init` will change from 10 to 'auto' in 1.4. Set the value of `n_init` explicitly to suppress the warning\n",
            "  super()._check_params_vs_input(X, default_n_init=10)\n",
            "/usr/local/lib/python3.10/dist-packages/sklearn/cluster/_kmeans.py:1416: FutureWarning: The default value of `n_init` will change from 10 to 'auto' in 1.4. Set the value of `n_init` explicitly to suppress the warning\n",
            "  super()._check_params_vs_input(X, default_n_init=10)\n",
            "/usr/local/lib/python3.10/dist-packages/sklearn/cluster/_kmeans.py:1416: FutureWarning: The default value of `n_init` will change from 10 to 'auto' in 1.4. Set the value of `n_init` explicitly to suppress the warning\n",
            "  super()._check_params_vs_input(X, default_n_init=10)\n"
          ]
        },
        {
          "output_type": "display_data",
          "data": {
            "text/plain": [
              "<Figure size 800x600 with 1 Axes>"
            ],
            "image/png": "[encoded data removed]"
          },
          "metadata": {}
        }
      ]
    },
    {
      "cell_type": "code",
      "execution_count": 163,
      "id": "2d08303f",
      "metadata": {
        "id": "2d08303f",
        "colab": {
          "base_uri": "https://localhost:8080/",
          "height": 129
        },
        "outputId": "2cec7cc4-2ab9-4c10-ce58-d5f5bd3d988e"
      },
      "outputs": [
        {
          "output_type": "stream",
          "name": "stderr",
          "text": [
            "/usr/local/lib/python3.10/dist-packages/sklearn/cluster/_kmeans.py:1416: FutureWarning: The default value of `n_init` will change from 10 to 'auto' in 1.4. Set the value of `n_init` explicitly to suppress the warning\n",
            "  super()._check_params_vs_input(X, default_n_init=10)\n"
          ]
        },
        {
          "output_type": "execute_result",
          "data": {
            "text/plain": [
              "KMeans(n_clusters=3)"
            ],
            "text/html": [
              "<style>#sk-container-id-2 {color: black;}#sk-container-id-2 pre{padding: 0;}#sk-container-id-2 div.sk-toggleable {background-color: white;}#sk-container-id-2 label.sk-toggleable__label {cursor: pointer;display: block;width: 100%;margin-bottom: 0;padding: 0.3em;box-sizing: border-box;text-align: center;}#sk-container-id-2 label.sk-toggleable__label-arrow:before {content: \"▸\";float: left;margin-right: 0.25em;color: #696969;}#sk-container-id-2 label.sk-toggleable__label-arrow:hover:before {color: black;}#sk-container-id-2 div.sk-estimator:hover label.sk-toggleable__label-arrow:before {color: black;}#sk-container-id-2 div.sk-toggleable__content {max-height: 0;max-width: 0;overflow: hidden;text-align: left;background-color: #f0f8ff;}#sk-container-id-2 div.sk-toggleable__content pre {margin: 0.2em;color: black;border-radius: 0.25em;background-color: #f0f8ff;}#sk-container-id-2 input.sk-toggleable__control:checked~div.sk-toggleable__content {max-height: 200px;max-width: 100%;overflow: auto;}#sk-container-id-2 input.sk-toggleable__control:checked~label.sk-toggleable__label-arrow:before {content: \"▾\";}#sk-container-id-2 div.sk-estimator input.sk-toggleable__control:checked~label.sk-toggleable__label {background-color: #d4ebff;}#sk-container-id-2 div.sk-label input.sk-toggleable__control:checked~label.sk-toggleable__label {background-color: #d4ebff;}#sk-container-id-2 input.sk-hidden--visually {border: 0;clip: rect(1px 1px 1px 1px);clip: rect(1px, 1px, 1px, 1px);height: 1px;margin: -1px;overflow: hidden;padding: 0;position: absolute;width: 1px;}#sk-container-id-2 div.sk-estimator {font-family: monospace;background-color: #f0f8ff;border: 1px dotted black;border-radius: 0.25em;box-sizing: border-box;margin-bottom: 0.5em;}#sk-container-id-2 div.sk-estimator:hover {background-color: #d4ebff;}#sk-container-id-2 div.sk-parallel-item::after {content: \"\";width: 100%;border-bottom: 1px solid gray;flex-grow: 1;}#sk-container-id-2 div.sk-label:hover label.sk-toggleable__label {background-color: #d4ebff;}#sk-container-id-2 div.sk-serial::before {content: \"\";position: absolute;border-left: 1px solid gray;box-sizing: border-box;top: 0;bottom: 0;left: 50%;z-index: 0;}#sk-container-id-2 div.sk-serial {display: flex;flex-direction: column;align-items: center;background-color: white;padding-right: 0.2em;padding-left: 0.2em;position: relative;}#sk-container-id-2 div.sk-item {position: relative;z-index: 1;}#sk-container-id-2 div.sk-parallel {display: flex;align-items: stretch;justify-content: center;background-color: white;position: relative;}#sk-container-id-2 div.sk-item::before, #sk-container-id-2 div.sk-parallel-item::before {content: \"\";position: absolute;border-left: 1px solid gray;box-sizing: border-box;top: 0;bottom: 0;left: 50%;z-index: -1;}#sk-container-id-2 div.sk-parallel-item {display: flex;flex-direction: column;z-index: 1;position: relative;background-color: white;}#sk-container-id-2 div.sk-parallel-item:first-child::after {align-self: flex-end;width: 50%;}#sk-container-id-2 div.sk-parallel-item:last-child::after {align-self: flex-start;width: 50%;}#sk-container-id-2 div.sk-parallel-item:only-child::after {width: 0;}#sk-container-id-2 div.sk-dashed-wrapped {border: 1px dashed gray;margin: 0 0.4em 0.5em 0.4em;box-sizing: border-box;padding-bottom: 0.4em;background-color: white;}#sk-container-id-2 div.sk-label label {font-family: monospace;font-weight: bold;display: inline-block;line-height: 1.2em;}#sk-container-id-2 div.sk-label-container {text-align: center;}#sk-container-id-2 div.sk-container {/* jupyter's `normalize.less` sets `[hidden] { display: none; }` but bootstrap.min.css set `[hidden] { display: none !important; }` so we also need the `!important` here to be able to override the default hidden behavior on the sphinx rendered scikit-learn.org. See: https://github.com/scikit-learn/scikit-learn/issues/21755 */display: inline-block !important;position: relative;}#sk-container-id-2 div.sk-text-repr-fallback {display: none;}</style><div id=\"sk-container-id-2\" class=\"sk-top-container\"><div class=\"sk-text-repr-fallback\"><pre>KMeans(n_clusters=3)</pre><b>In a Jupyter environment, please rerun this cell to show the HTML representation or trust the notebook. <br />On GitHub, the HTML representation is unable to render, please try loading this page with nbviewer.org.</b></div><div class=\"sk-container\" hidden><div class=\"sk-item\"><div class=\"sk-estimator sk-toggleable\"><input class=\"sk-toggleable__control sk-hidden--visually\" id=\"sk-estimator-id-2\" type=\"checkbox\" checked><label for=\"sk-estimator-id-2\" class=\"sk-toggleable__label sk-toggleable__label-arrow\">KMeans</label><div class=\"sk-toggleable__content\"><pre>KMeans(n_clusters=3)</pre></div></div></div></div></div>"
            ]
          },
          "metadata": {},
          "execution_count": 163
        }
      ],
      "source": [
        "from sklearn.cluster import KMeans\n",
        "from sklearn.metrics import silhouette_score\n",
        "import matplotlib.pyplot as plt\n",
        "\n",
        "model = KMeans(n_clusters = 3)\n",
        "model.fit(df)"
      ]
    },
    {
      "cell_type": "markdown",
      "id": "70fb3a2a",
      "metadata": {
        "id": "70fb3a2a"
      },
      "source": [
        "## Evaluation\n",
        "Evaluate the clustering result using appropriate metrics.\n"
      ]
    },
    {
      "cell_type": "code",
      "execution_count": 164,
      "id": "70c261ca",
      "metadata": {
        "id": "70c261ca",
        "colab": {
          "base_uri": "https://localhost:8080/"
        },
        "outputId": "31fccfd2-c2a4-40a5-9eda-1b58778e4386"
      },
      "outputs": [
        {
          "output_type": "stream",
          "name": "stdout",
          "text": [
            "Silhouette Coefficient:0.26\n"
          ]
        }
      ],
      "source": [
        "from sklearn import metrics\n",
        "y_pred = model.predict(df)\n",
        "sc = metrics.silhouette_score(df, y_pred)\n",
        "print(\"Silhouette Coefficient:%0.2f\" % sc)"
      ]
    },
    {
      "cell_type": "markdown",
      "id": "061e005c",
      "metadata": {
        "id": "061e005c"
      },
      "source": [
        "## Plot the data points with their predicted cluster center"
      ]
    },
    {
      "cell_type": "code",
      "source": [
        "df_dataframe = pd.DataFrame(df)"
      ],
      "metadata": {
        "id": "HdVB_q0bAxug"
      },
      "id": "HdVB_q0bAxug",
      "execution_count": 165,
      "outputs": []
    },
    {
      "cell_type": "code",
      "execution_count": 166,
      "id": "10cc0ed5",
      "metadata": {
        "id": "10cc0ed5",
        "colab": {
          "base_uri": "https://localhost:8080/",
          "height": 636
        },
        "outputId": "50b36585-14f5-485c-a9dd-cc1791b2f2e1"
      },
      "outputs": [
        {
          "output_type": "execute_result",
          "data": {
            "text/plain": [
              "Text(0, 0.5, 'SepalWidthCm')"
            ]
          },
          "metadata": {},
          "execution_count": 166
        },
        {
          "output_type": "display_data",
          "data": {
            "text/plain": [
              "<Figure size 1000x700 with 1 Axes>"
            ],
            "image/png": "[encoded data removed]"
          },
          "metadata": {}
        }
      ],
      "source": [
        "plt.figure(figsize=(10, 7))\n",
        "plt.scatter(df_dataframe[7], df_dataframe[12], c=y_pred)\n",
        "plt.xlabel('SepalLengthCm')\n",
        "plt.ylabel('SepalWidthCm')"
      ]
    },
    {
      "cell_type": "markdown",
      "id": "5cdf3716",
      "metadata": {
        "id": "5cdf3716"
      },
      "source": [
        "## Exam Questions\n",
        "* **Justify Your Feature Selection:**\n",
        "   - Which features did you choose for clustering and why?\n",
        "* **Number of Clusters Choices:**\n",
        "   - How did you determine the optimal number?\n",
        "* **Evaluation:**\n",
        "   - Which metrics did you use to evaluate the clustering results, and why?\n",
        "   - How do these metrics help in understanding the effectiveness of your clustering approach?\n",
        "* **Improvements and Recommendations:**\n",
        "   - Suggest any improvements or future work that could be done with this dataset. What other methods or algorithms would you consider applying?"
      ]
    },
    {
      "cell_type": "markdown",
      "source": [
        "1. Justify Your Feature Selection :\n",
        "\n",
        "  I used all data beacuse I already remove the unrelavant features for this problem.\n",
        "\n",
        "2. Number of Clusters Choices:\n",
        "\n",
        "  I used k = 3 based on the elbow method.\n",
        "\n",
        "3. Evaluation:\n",
        "\n",
        "  I used silhouette_score which is a specfic metraic for clustring models.\n",
        "\n",
        "  for silhouette_score:\n",
        "\n",
        "- When the score = 0 that means the point in the middle of the clusters.\n",
        "- and if it negitive that means it is in the miscluster.\n",
        "- if it = 1 that means the point in the right cluster so it is the best.\n",
        "\n",
        "\n",
        "\n",
        "4. Improvements and Recommendations:\n",
        "\n",
        "  I Suggest use another clustring models like DBSCAN and so on. also use another approch to detraimane the K value to get a better result."
      ],
      "metadata": {
        "id": "8LDKNY17F8O4"
      },
      "id": "8LDKNY17F8O4"
    }
  ],
  "metadata": {
    "language_info": {
      "name": "python"
    },
    "colab": {
      "provenance": []
    },
    "kernelspec": {
      "name": "python3",
      "display_name": "Python 3"
    }
  },
  "nbformat": 4,
  "nbformat_minor": 5
}